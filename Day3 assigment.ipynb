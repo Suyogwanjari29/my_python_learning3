{
 "cells": [
  {
   "cell_type": "markdown",
   "id": "6da1d0c5-222e-4b8e-9d13-bc759e63dd0a",
   "metadata": {},
   "source": [
    "## Perform following assignments\r\n",
    "## Write your conclusions in comments\r",
    "#\n",
    "# NOTE :# \n",
    "# Every question and bit is explaining a concept, so think and learn!"
   ]
  },
  {
   "cell_type": "markdown",
   "id": "26570d38-3f33-4e68-96f0-490487170233",
   "metadata": {},
   "source": [
    "##### Que 1"
   ]
  },
  {
   "cell_type": "code",
   "execution_count": 1,
   "id": "aa68a355-f4a3-4309-a2e0-efccf2544353",
   "metadata": {},
   "outputs": [
    {
     "data": {
      "text/plain": [
       "int"
      ]
     },
     "execution_count": 1,
     "metadata": {},
     "output_type": "execute_result"
    }
   ],
   "source": [
    "type(0)"
   ]
  },
  {
   "cell_type": "code",
   "execution_count": 2,
   "id": "011e02b6-6428-4dd9-8c88-6ab00fd39bea",
   "metadata": {},
   "outputs": [
    {
     "data": {
      "text/plain": [
       "float"
      ]
     },
     "execution_count": 2,
     "metadata": {},
     "output_type": "execute_result"
    }
   ],
   "source": [
    "type(0.0)"
   ]
  },
  {
   "cell_type": "code",
   "execution_count": 4,
   "id": "2882188c-bef3-4322-8eac-19e54d567f89",
   "metadata": {},
   "outputs": [
    {
     "data": {
      "text/plain": [
       "str"
      ]
     },
     "execution_count": 4,
     "metadata": {},
     "output_type": "execute_result"
    }
   ],
   "source": [
    "type('A')"
   ]
  },
  {
   "cell_type": "code",
   "execution_count": 5,
   "id": "4d5c9930-0a7e-4b6d-aef5-0826764d7417",
   "metadata": {},
   "outputs": [
    {
     "data": {
      "text/plain": [
       "builtin_function_or_method"
      ]
     },
     "execution_count": 5,
     "metadata": {},
     "output_type": "execute_result"
    }
   ],
   "source": [
    "type(print)"
   ]
  },
  {
   "cell_type": "code",
   "execution_count": 6,
   "id": "b7c7cedf-fffa-4482-af73-64f72f05b7cf",
   "metadata": {},
   "outputs": [
    {
     "data": {
      "text/plain": [
       "complex"
      ]
     },
     "execution_count": 6,
     "metadata": {},
     "output_type": "execute_result"
    }
   ],
   "source": [
    "type(3+3j)"
   ]
  },
  {
   "cell_type": "code",
   "execution_count": 7,
   "id": "da0c7810-5e12-4b18-bb3a-1709eea5386b",
   "metadata": {},
   "outputs": [
    {
     "data": {
      "text/plain": [
       "bool"
      ]
     },
     "execution_count": 7,
     "metadata": {},
     "output_type": "execute_result"
    }
   ],
   "source": [
    "type(True)"
   ]
  },
  {
   "cell_type": "markdown",
   "id": "2e92cff2-030a-489a-807a-1ed9d90c1a8c",
   "metadata": {},
   "source": [
    "### Que 2"
   ]
  },
  {
   "cell_type": "code",
   "execution_count": 8,
   "id": "a84352f2-614d-4f92-85f4-e31c1645e935",
   "metadata": {},
   "outputs": [
    {
     "data": {
      "text/plain": [
       "True"
      ]
     },
     "execution_count": 8,
     "metadata": {},
     "output_type": "execute_result"
    }
   ],
   "source": [
    "isinstance(10,int)"
   ]
  },
  {
   "cell_type": "code",
   "execution_count": 9,
   "id": "eee80e07-66e1-4e5c-b5d1-e963a1dc4498",
   "metadata": {},
   "outputs": [
    {
     "data": {
      "text/plain": [
       "False"
      ]
     },
     "execution_count": 9,
     "metadata": {},
     "output_type": "execute_result"
    }
   ],
   "source": [
    "isinstance(10,float)"
   ]
  },
  {
   "cell_type": "code",
   "execution_count": 10,
   "id": "2213b360-eb8a-4cc6-bca0-6df0d75537ab",
   "metadata": {},
   "outputs": [
    {
     "data": {
      "text/plain": [
       "False"
      ]
     },
     "execution_count": 10,
     "metadata": {},
     "output_type": "execute_result"
    }
   ],
   "source": [
    "isinstance(1,bool)"
   ]
  },
  {
   "cell_type": "code",
   "execution_count": 11,
   "id": "7a482500-a61a-48f1-bcde-317b15079e74",
   "metadata": {},
   "outputs": [
    {
     "data": {
      "text/plain": [
       "False"
      ]
     },
     "execution_count": 11,
     "metadata": {},
     "output_type": "execute_result"
    }
   ],
   "source": [
    "isinstance(0,bool)"
   ]
  },
  {
   "cell_type": "code",
   "execution_count": 13,
   "id": "79c1f27a-c087-4cbe-9370-87093b3fa066",
   "metadata": {},
   "outputs": [
    {
     "data": {
      "text/plain": [
       "False"
      ]
     },
     "execution_count": 13,
     "metadata": {},
     "output_type": "execute_result"
    }
   ],
   "source": [
    "isinstance(78.8,int)"
   ]
  },
  {
   "cell_type": "code",
   "execution_count": 14,
   "id": "0c22d69b-0d8d-465d-8a7c-570ba7f2408b",
   "metadata": {},
   "outputs": [
    {
     "data": {
      "text/plain": [
       "True"
      ]
     },
     "execution_count": 14,
     "metadata": {},
     "output_type": "execute_result"
    }
   ],
   "source": [
    "isinstance(78.8, float)"
   ]
  },
  {
   "cell_type": "code",
   "execution_count": 15,
   "id": "332b9b7b-a700-4178-b3b1-9b66a46cb5a2",
   "metadata": {},
   "outputs": [
    {
     "data": {
      "text/plain": [
       "False"
      ]
     },
     "execution_count": 15,
     "metadata": {},
     "output_type": "execute_result"
    }
   ],
   "source": [
    "isinstance(78.8, complex)"
   ]
  },
  {
   "cell_type": "code",
   "execution_count": 17,
   "id": "054f3cf6-ae2f-4bd5-869c-54b610962605",
   "metadata": {},
   "outputs": [
    {
     "data": {
      "text/plain": [
       "True"
      ]
     },
     "execution_count": 17,
     "metadata": {},
     "output_type": "execute_result"
    }
   ],
   "source": [
    "isinstance(True, bool)"
   ]
  },
  {
   "cell_type": "markdown",
   "id": "b24803aa-3dfb-48ee-adc6-d48a03a2af3a",
   "metadata": {},
   "source": [
    "## NOTE: Similarly check for few other values and clarify the concept "
   ]
  },
  {
   "cell_type": "markdown",
   "id": "056d3062-2d6d-46a3-82dd-865c6a60451e",
   "metadata": {},
   "source": [
    "### Que 4"
   ]
  },
  {
   "cell_type": "code",
   "execution_count": 20,
   "id": "6ad9a957-3451-4d80-a32c-bfc30d518483",
   "metadata": {},
   "outputs": [
    {
     "name": "stdin",
     "output_type": "stream",
     "text": [
      "Enter roll number :  54\n",
      "Enter percentage :  45.6\n",
      "Enter complex number : 2+3j\n",
      "Enter name :  suyog\n"
     ]
    },
    {
     "name": "stdout",
     "output_type": "stream",
     "text": [
      "54 45.6 (2+3j) suyog\n"
     ]
    }
   ],
   "source": [
    "roll = int(input(\"Enter roll number : \"))\n",
    "percentage = float(input(\"Enter percentage : \"))\n",
    "comple = complex(input(\"Enter complex number :\"))\n",
    "name = str(input(\"Enter name : \"))\n",
    "print(roll,percentage,comple, name)"
   ]
  },
  {
   "cell_type": "markdown",
   "id": "50e3d198-a9bd-467e-8dae-e45fdc912296",
   "metadata": {},
   "source": [
    "### Que 5"
   ]
  },
  {
   "cell_type": "code",
   "execution_count": 21,
   "id": "2688879b-cafc-4caf-b042-bae5ca5b88cc",
   "metadata": {},
   "outputs": [
    {
     "name": "stdout",
     "output_type": "stream",
     "text": [
      "0b101\n",
      "0x5\n",
      "0o5\n"
     ]
    }
   ],
   "source": [
    "a = 5\n",
    "print(bin(a,2))\n",
    "print(hex(a))\n",
    "print(oct(a))"
   ]
  },
  {
   "cell_type": "markdown",
   "id": "8bbeda41-39ec-4395-8482-334b9fa444e9",
   "metadata": {},
   "source": [
    "### Que 6"
   ]
  },
  {
   "cell_type": "code",
   "execution_count": 50,
   "id": "62181ae7-cf66-4e3d-925a-89227b715aa9",
   "metadata": {},
   "outputs": [
    {
     "data": {
      "text/plain": [
       "6"
      ]
     },
     "execution_count": 50,
     "metadata": {},
     "output_type": "execute_result"
    }
   ],
   "source": [
    "a = '0b0110'\n",
    "int(a,2)  #2 is because a is in binar, if it is hex then instaed of 2 use 8"
   ]
  },
  {
   "cell_type": "markdown",
   "id": "126680c3-1168-4125-a3dc-377ca54eb19e",
   "metadata": {},
   "source": [
    "### Que 7"
   ]
  },
  {
   "cell_type": "code",
   "execution_count": 54,
   "id": "d99d302c-1173-4f42-a2bf-32123c6d33d9",
   "metadata": {},
   "outputs": [
    {
     "data": {
      "text/plain": [
       "273"
      ]
     },
     "execution_count": 54,
     "metadata": {},
     "output_type": "execute_result"
    }
   ],
   "source": [
    "a = '0x00111'\n",
    "\n",
    "int(a,16)"
   ]
  },
  {
   "cell_type": "markdown",
   "id": "fdd7ca58-ff81-4447-874c-4ba9eb3d4d50",
   "metadata": {},
   "source": [
    "### Que 8"
   ]
  },
  {
   "cell_type": "code",
   "execution_count": 56,
   "id": "4bc33f84-1f25-4e93-8b15-cab8ef4633d3",
   "metadata": {},
   "outputs": [
    {
     "name": "stdin",
     "output_type": "stream",
     "text": [
      "Enter num  :  5\n"
     ]
    },
    {
     "name": "stdout",
     "output_type": "stream",
     "text": [
      "0b101\n"
     ]
    }
   ],
   "source": [
    "a = int(input(\"Enter num  : \"))\n",
    "binary = bin(a)\n",
    "print(binary)"
   ]
  },
  {
   "cell_type": "markdown",
   "id": "d71d79f2-b63c-47aa-b065-ae6305a522ea",
   "metadata": {},
   "source": [
    "### Que 9"
   ]
  },
  {
   "cell_type": "code",
   "execution_count": 68,
   "id": "f74f8784-25c1-4052-8cc0-5c9a876d2747",
   "metadata": {},
   "outputs": [
    {
     "name": "stdin",
     "output_type": "stream",
     "text": [
      "Enter binary :  1100\n",
      "Enter octal :  1010\n",
      "Enter hexadecimal :  0011\n"
     ]
    },
    {
     "name": "stdout",
     "output_type": "stream",
     "text": [
      "biary -> 12 octal -> 520 hex -> 17\n"
     ]
    }
   ],
   "source": [
    "binary ='0b'+input(\"Enter binary : \")\n",
    "octal = '0o' + input(\"Enter octal : \")\n",
    "hexa = '0x'+ input(\"Enter hexadecimal : \")\n",
    "print(\"biary ->\",int(binary,2),\"octal ->\",int(octal,8),\"hex ->\", int(hexa,16))"
   ]
  },
  {
   "cell_type": "markdown",
   "id": "ae25e501-a5f3-4791-a943-8e4dd0dd1f6f",
   "metadata": {},
   "source": [
    "### Que 10"
   ]
  },
  {
   "cell_type": "code",
   "execution_count": 5,
   "id": "ff0348a3-e877-47f6-a1b4-cab96d5f3b04",
   "metadata": {},
   "outputs": [
    {
     "name": "stdout",
     "output_type": "stream",
     "text": [
      "False\n",
      "False\n",
      "True\n",
      "False\n",
      "False\n",
      "False\n",
      "True\n",
      "True\n",
      "True\n",
      "True\n",
      "True\n",
      "True\n",
      "False\n",
      "True\n"
     ]
    }
   ],
   "source": [
    "print(bool('')) #(empty string) frue\n",
    "print(bool(10-10))      #false\n",
    "print(bool(19.99-19.9))  #True\n",
    "print(bool([])) #(empty list) #false\n",
    "print(bool(range(0)))  #false\n",
    "print(bool(None))      #false\n",
    "print(bool(0+0.1j))     #true\n",
    "print(bool(-10))       #true\n",
    "print(bool(-9.6))      #true\n",
    "print(bool('ABC'+'KL'))    #true\n",
    "print(bool('-'))      #true\n",
    "print(bool('False'))   #true\n",
    "print(bool(False))     #false\n",
    "print(bool('None'))    #true"
   ]
  },
  {
   "cell_type": "code",
   "execution_count": null,
   "id": "6f963584-cac4-4560-a891-d135dd577588",
   "metadata": {},
   "outputs": [],
   "source": []
  }
 ],
 "metadata": {
  "kernelspec": {
   "display_name": "Python 3 (ipykernel)",
   "language": "python",
   "name": "python3"
  },
  "language_info": {
   "codemirror_mode": {
    "name": "ipython",
    "version": 3
   },
   "file_extension": ".py",
   "mimetype": "text/x-python",
   "name": "python",
   "nbconvert_exporter": "python",
   "pygments_lexer": "ipython3",
   "version": "3.12.1"
  }
 },
 "nbformat": 4,
 "nbformat_minor": 5
}
